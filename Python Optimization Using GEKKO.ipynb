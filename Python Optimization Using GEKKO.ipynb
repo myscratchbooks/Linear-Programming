{
 "cells": [
  {
   "cell_type": "markdown",
   "id": "b87a7412",
   "metadata": {},
   "source": [
    "# Using GEKKO Optimization"
   ]
  },
  {
   "cell_type": "code",
   "execution_count": 1,
   "id": "a7692d5b",
   "metadata": {},
   "outputs": [
    {
     "name": "stderr",
     "output_type": "stream",
     "text": [
      "WARNING: pip is being invoked by an old script wrapper. This will fail in a future version of pip.\n",
      "Please see https://github.com/pypa/pip/issues/5599 for advice on fixing the underlying issue.\n",
      "To avoid this problem you can invoke Python with '-m pip' instead of running pip directly.\n"
     ]
    },
    {
     "name": "stdout",
     "output_type": "stream",
     "text": [
      "Collecting gekko\n",
      "  Downloading gekko-1.0.4-py3-none-any.whl (14.1 MB)\n",
      "Requirement already satisfied: numpy>=1.8 in c:\\users\\avitr\\anaconda3\\lib\\site-packages (from gekko) (1.20.1)\n",
      "Installing collected packages: gekko\n",
      "Successfully installed gekko-1.0.4\n"
     ]
    },
    {
     "data": {
      "text/plain": [
       "0"
      ]
     },
     "execution_count": 1,
     "metadata": {},
     "output_type": "execute_result"
    }
   ],
   "source": [
    "# https://gekko.readthedocs.io/en/latest/\n",
    "try:\n",
    "    from pip import main as pipmain\n",
    "except:\n",
    "    from pip._internal import main as pipmain\n",
    "pipmain(['install','gekko'])"
   ]
  },
  {
   "cell_type": "markdown",
   "id": "ed173bc0",
   "metadata": {},
   "source": [
    "### Example: Constrained Box Volume"
   ]
  },
  {
   "cell_type": "code",
   "execution_count": 107,
   "id": "04e06ae8",
   "metadata": {},
   "outputs": [
    {
     "data": {
      "application/vnd.jupyter.widget-view+json": {
       "model_id": "f476a8fdee9a42cbaef8acf15ddb6e99",
       "version_major": 2,
       "version_minor": 0
      },
      "text/plain": [
       "Image(value=b'\\xff\\xd8\\xff\\xdb\\x00\\x84\\x00\\x03\\x02\\x02\\x03\\x02\\x02\\x03\\x03\\x03\\x03\\x04\\x03\\x03\\x04\\x05\\x08\\x05…"
      ]
     },
     "metadata": {},
     "output_type": "display_data"
    }
   ],
   "source": [
    "import requests\n",
    "from ipywidgets import Image\n",
    "\n",
    "# from https://towardsdatascience.com/optimization-with-scipy-and-application-ideas-to-machine-learning-81d39c7938b8\n",
    "Image(value=requests.get('https://miro.medium.com/max/700/1*44DntoT9xYkMzrSrDWlrxw.jpeg').content)"
   ]
  },
  {
   "cell_type": "code",
   "execution_count": 183,
   "id": "54a767ed",
   "metadata": {},
   "outputs": [],
   "source": [
    "# import GRKKO optimization package\n",
    "from gekko import GEKKO\n",
    "\n",
    "m = GEKKO()            # create GEKKO model\n",
    "m.options.SOLVER=1     #  1: APOPT   https://gekko.readthedocs.io/en/latest/global.html#solver-1"
   ]
  },
  {
   "cell_type": "code",
   "execution_count": 184,
   "id": "6298647e",
   "metadata": {},
   "outputs": [],
   "source": [
    "#  put a lower bound to avoid divide by zero\n",
    "# https://stackoverflow.com/questions/64491175/python-optimization-using-gekko\n",
    "lower = 1e-3\n",
    "\n",
    "# define new variable, default=0\n",
    "x = m.Var(value=1,lb=lower) \n",
    "y = m.Var(value=1,lb=lower) \n",
    "\n",
    "volume = m.Var()\n",
    "surfaceArea = m.Var()"
   ]
  },
  {
   "cell_type": "code",
   "execution_count": 185,
   "id": "e57b700d",
   "metadata": {},
   "outputs": [
    {
     "data": {
      "text/plain": [
       "<gekko.gekko.EquationObj at 0x1e9308aca90>"
      ]
     },
     "execution_count": 185,
     "metadata": {},
     "output_type": "execute_result"
    }
   ],
   "source": [
    "# Define Box equations\n",
    "m.Equation(volume == x*x*y)\n",
    "m.Equation(surfaceArea == x**2 + 4*x*y)\n"
   ]
  },
  {
   "cell_type": "code",
   "execution_count": 186,
   "id": "426aca39",
   "metadata": {},
   "outputs": [
    {
     "data": {
      "text/plain": [
       "<gekko.gekko.EquationObj at 0x1e9308ac550>"
      ]
     },
     "execution_count": 186,
     "metadata": {},
     "output_type": "execute_result"
    }
   ],
   "source": [
    "# Add constraint on volume\n",
    "m.Equation(volume == 256)\n"
   ]
  },
  {
   "cell_type": "code",
   "execution_count": 187,
   "id": "f205d46e",
   "metadata": {},
   "outputs": [],
   "source": [
    "# Define objective function (negative to maximize surfaceArea instead of minimize)\n",
    "#m.Obj(-surfaceArea)\n",
    "m.Maximize(-surfaceArea)"
   ]
  },
  {
   "cell_type": "code",
   "execution_count": 188,
   "id": "6582823d",
   "metadata": {},
   "outputs": [],
   "source": [
    "# Set mode to steady state optimization (solution is not changing in time)\n",
    "# https://gekko.readthedocs.io/en/latest/global.html#imode-1\n",
    "m.options.IMODE=3"
   ]
  },
  {
   "cell_type": "code",
   "execution_count": 189,
   "id": "b53b5cc7",
   "metadata": {},
   "outputs": [
    {
     "name": "stdout",
     "output_type": "stream",
     "text": [
      "apm 47.229.112.160_gk_model12 <br><pre> ----------------------------------------------------------------\n",
      " APMonitor, Version 1.0.1\n",
      " APMonitor Optimization Suite\n",
      " ----------------------------------------------------------------\n",
      " \n",
      " \n",
      " --------- APM Model Size ------------\n",
      " Each time step contains\n",
      "   Objects      :            0\n",
      "   Constants    :            0\n",
      "   Variables    :            4\n",
      "   Intermediates:            0\n",
      "   Connections  :            0\n",
      "   Equations    :            4\n",
      "   Residuals    :            4\n",
      " \n",
      " Number of state variables:              4\n",
      " Number of total equations: -            3\n",
      " Number of slack variables: -            0\n",
      " ---------------------------------------\n",
      " Degrees of freedom       :              1\n",
      " \n",
      " ----------------------------------------------\n",
      " Steady State Optimization with APOPT Solver\n",
      " ----------------------------------------------\n",
      " \n",
      " Iter    Objective  Convergence\n",
      "    0  2.07492E+08  2.56000E+02\n",
      "    1  1.57075E+09  2.54947E+02\n",
      "    2  1.39695E+09  2.52397E+02\n",
      "    3  5.28641E+07  2.46632E+02\n",
      "    4  1.09499E+07  5.97064E-01\n",
      "    5  1.36061E+06  1.23438E-01\n",
      "    6  3.09748E+02  3.06652E-02\n",
      "    7  3.09448E+02  8.35969E-04\n",
      "    8  2.63395E+02  9.53821E-07\n",
      "    9  2.15114E+02  8.27565E-03\n",
      " \n",
      " Iter    Objective  Convergence\n",
      "   10  1.95856E+02  2.00235E-02\n",
      "   11  2.02270E+02  9.18870E-03\n",
      "   12  1.95939E+02  5.46265E-03\n",
      "   13  1.92681E+02  2.33626E-03\n",
      "   14  1.92029E+02  4.04801E-04\n",
      "   15  1.92000E+02  1.71215E-05\n",
      "   16  1.92000E+02  8.17316E-08\n",
      "   17  1.92000E+02  3.23063E-11\n",
      "   18  1.92000E+02  3.23063E-11\n",
      " Successful solution\n",
      " \n",
      " ---------------------------------------------------\n",
      " Solver         :  APOPT (v1.0)\n",
      " Solution time  :   1.700000000710133E-002 sec\n",
      " Objective      :    191.999999999999     \n",
      " Successful solution\n",
      " ---------------------------------------------------\n",
      " \n"
     ]
    }
   ],
   "source": [
    "m.solve()"
   ]
  },
  {
   "cell_type": "code",
   "execution_count": 190,
   "id": "f2e79e2a",
   "metadata": {},
   "outputs": [
    {
     "name": "stdout",
     "output_type": "stream",
     "text": [
      "x: [8.0000000003]\n",
      "y: [3.9999999997]\n",
      "Volume: [256.0]\n",
      "Surface Area: [192.0]\n"
     ]
    }
   ],
   "source": [
    "print('x: ' + str(x.value))\n",
    "print('y: ' + str(y.value))\n",
    "print('Volume: ' + str(volume.value))\n",
    "print('Surface Area: ' + str(surfaceArea.value))"
   ]
  },
  {
   "cell_type": "code",
   "execution_count": null,
   "id": "c95d99bc",
   "metadata": {},
   "outputs": [],
   "source": []
  },
  {
   "cell_type": "code",
   "execution_count": null,
   "id": "b27caad9",
   "metadata": {},
   "outputs": [],
   "source": []
  }
 ],
 "metadata": {
  "kernelspec": {
   "display_name": "Python 3",
   "language": "python",
   "name": "python3"
  },
  "language_info": {
   "codemirror_mode": {
    "name": "ipython",
    "version": 3
   },
   "file_extension": ".py",
   "mimetype": "text/x-python",
   "name": "python",
   "nbconvert_exporter": "python",
   "pygments_lexer": "ipython3",
   "version": "3.8.8"
  }
 },
 "nbformat": 4,
 "nbformat_minor": 5
}

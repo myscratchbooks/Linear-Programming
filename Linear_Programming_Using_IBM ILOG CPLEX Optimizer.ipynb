{
 "cells": [
  {
   "cell_type": "markdown",
   "id": "a8f23205",
   "metadata": {},
   "source": [
    "# Using IBM Decision Optimization CPLEX (DOcplex) Modeling for Python"
   ]
  },
  {
   "cell_type": "code",
   "execution_count": 5,
   "id": "7693b4e7",
   "metadata": {},
   "outputs": [],
   "source": [
    "# https://github.com/IBMDecisionOptimization/docplex-examples/blob/master/examples/mp/jupyter/tutorials/Linear_Programming.ipynb\n",
    "import sys\n",
    "try:\n",
    "    import cplex\n",
    "except:\n",
    "    if hasattr(sys, 'real_prefix'):\n",
    "        #we are in a virtual env.\n",
    "        !pip install cplex\n",
    "    else:\n",
    "        !pip install --user cplex"
   ]
  },
  {
   "cell_type": "code",
   "execution_count": 6,
   "id": "a8260c68",
   "metadata": {},
   "outputs": [
    {
     "name": "stdout",
     "output_type": "stream",
     "text": [
      "Collecting docplex\n",
      "  Downloading docplex-2.23.222.tar.gz (610 kB)\n",
      "Requirement already satisfied: six in c:\\users\\avitr\\anaconda3\\lib\\site-packages (from docplex) (1.15.0)\n",
      "Building wheels for collected packages: docplex\n",
      "  Building wheel for docplex (setup.py): started\n",
      "  Building wheel for docplex (setup.py): finished with status 'done'\n",
      "  Created wheel for docplex: filename=docplex-2.23.222-py3-none-any.whl size=662819 sha256=b27f935ea018671d93b8333e1031f86a725b00d14f9d9c8bd98bbcf245a948e8\n",
      "  Stored in directory: c:\\users\\avitr\\appdata\\local\\pip\\cache\\wheels\\b9\\32\\a1\\dc2abf92ec8b699d63a9a944f0f756ecdba8a7aad863376afb\n",
      "Successfully built docplex\n",
      "Installing collected packages: docplex\n",
      "Successfully installed docplex-2.23.222\n"
     ]
    }
   ],
   "source": [
    "import sys\n",
    "try:\n",
    "    import docplex.mp\n",
    "except:\n",
    "    if hasattr(sys, 'real_prefix'):\n",
    "        #we are in a virtual env.\n",
    "        !pip install docplex\n",
    "    else:\n",
    "        !pip install --user docplex"
   ]
  },
  {
   "cell_type": "markdown",
   "id": "0f932a98",
   "metadata": {},
   "source": [
    "#### If either CPLEX or docplex where installed in the steps above, you will need to restart your jupyter kernel for the changes to be taken into account."
   ]
  },
  {
   "cell_type": "code",
   "execution_count": 1,
   "id": "ed06eda3",
   "metadata": {},
   "outputs": [],
   "source": [
    "# first import the Model class from docplex.mp\n",
    "\n",
    "import cplex\n",
    "import docplex.mp\n",
    "from docplex.mp.model import Model"
   ]
  },
  {
   "cell_type": "code",
   "execution_count": 15,
   "id": "427a9be2",
   "metadata": {},
   "outputs": [],
   "source": [
    "# create one model instance, with a name\n",
    "m = Model(name='Resource allocation', log_output=True)"
   ]
  },
  {
   "cell_type": "markdown",
   "id": "f6275194",
   "metadata": {},
   "source": [
    "## Variables"
   ]
  },
  {
   "cell_type": "code",
   "execution_count": 16,
   "id": "e0237b18",
   "metadata": {},
   "outputs": [],
   "source": [
    "# by default, all variables in Docplex have a lower bound of 0 and infinite upper bound\n",
    "door = m.continuous_var(name='door')\n",
    "window = m.continuous_var(name='window')"
   ]
  },
  {
   "cell_type": "markdown",
   "id": "0a6d099b",
   "metadata": {},
   "source": [
    "## Constraints"
   ]
  },
  {
   "cell_type": "code",
   "execution_count": 17,
   "id": "6cce725e",
   "metadata": {},
   "outputs": [],
   "source": [
    "plant1 = m.add_constraint( 1 * door + 0 * window <= 4)\n",
    "plant2 = m.add_constraint( 0 * door + 2 * window <= 12)\n",
    "plant3 = m.add_constraint( 3 * door + 2 * window <= 18)\n",
    "totalProduction = m.add_constraint( door +  window <= 200)\n"
   ]
  },
  {
   "cell_type": "markdown",
   "id": "328e94b4",
   "metadata": {},
   "source": [
    "## Goals"
   ]
  },
  {
   "cell_type": "code",
   "execution_count": 18,
   "id": "f5da65cf",
   "metadata": {},
   "outputs": [],
   "source": [
    "m.maximize(3000 * door + 5000 * window)"
   ]
  },
  {
   "cell_type": "markdown",
   "id": "1b3a1cc5",
   "metadata": {},
   "source": [
    "## Solution"
   ]
  },
  {
   "cell_type": "code",
   "execution_count": 19,
   "id": "41f11b51",
   "metadata": {},
   "outputs": [
    {
     "name": "stdout",
     "output_type": "stream",
     "text": [
      "Version identifier: 22.1.0.0 | 2022-03-25 | 54982fbec\n",
      "CPXPARAM_Read_DataCheck                          1\n",
      "Tried aggregator 1 time.\n",
      "LP Presolve eliminated 3 rows and 0 columns.\n",
      "Reduced LP has 1 rows, 2 columns, and 2 nonzeros.\n",
      "Presolve time = 0.00 sec. (0.00 ticks)\n",
      "\n",
      "Iteration log . . .\n",
      "Iteration:     1   Dual objective     =         36000.000000\n"
     ]
    }
   ],
   "source": [
    "sol = m.solve()"
   ]
  },
  {
   "cell_type": "code",
   "execution_count": 20,
   "id": "fef6f545",
   "metadata": {
    "scrolled": true
   },
   "outputs": [
    {
     "name": "stdout",
     "output_type": "stream",
     "text": [
      "solution for: Resource allocation\n",
      "objective: 36000.000\n",
      "door = 2.000\n",
      "window = 6.000\n"
     ]
    }
   ],
   "source": [
    "sol.display()"
   ]
  },
  {
   "cell_type": "markdown",
   "id": "73c7b180",
   "metadata": {},
   "source": [
    "#### Print information about the model\n",
    "#### We can print information about the model to see how many objects of each type it holds:"
   ]
  },
  {
   "cell_type": "code",
   "execution_count": 21,
   "id": "945e33a8",
   "metadata": {},
   "outputs": [
    {
     "name": "stdout",
     "output_type": "stream",
     "text": [
      "Model: Resource allocation\n",
      " - number of variables: 2\n",
      "   - binary=0, integer=0, continuous=2\n",
      " - number of constraints: 4\n",
      "   - linear=4\n",
      " - parameters: defaults\n",
      " - objective: maximize\n",
      " - problem type is: LP\n"
     ]
    }
   ],
   "source": [
    "m.print_information()"
   ]
  },
  {
   "cell_type": "code",
   "execution_count": 22,
   "id": "7d8d2825",
   "metadata": {},
   "outputs": [
    {
     "name": "stdout",
     "output_type": "stream",
     "text": [
      "objective: 36000.000\n",
      "  door=2.000\n",
      "  window=6.000\n"
     ]
    }
   ],
   "source": [
    "m.print_solution()"
   ]
  },
  {
   "cell_type": "code",
   "execution_count": 23,
   "id": "58c76bcc",
   "metadata": {},
   "outputs": [
    {
     "data": {
      "text/plain": [
       "2.0"
      ]
     },
     "execution_count": 23,
     "metadata": {},
     "output_type": "execute_result"
    }
   ],
   "source": [
    "door.solution_value"
   ]
  },
  {
   "cell_type": "code",
   "execution_count": 24,
   "id": "b13b389d",
   "metadata": {},
   "outputs": [
    {
     "data": {
      "text/plain": [
       "6.0"
      ]
     },
     "execution_count": 24,
     "metadata": {},
     "output_type": "execute_result"
    }
   ],
   "source": [
    "window.solution_value"
   ]
  },
  {
   "cell_type": "markdown",
   "id": "c9bd24af",
   "metadata": {},
   "source": [
    "#### References\n",
    "    https://medium.com/analytics-vidhya/python-api-of-docplex-for-solving-linear-programming-problems-6ab6f2e9b553\n",
    "    https://mohamadkalil1.medium.com/solving-a-simple-linear-optimization-using-cplex-in-python-67d99d2591b4\n"
   ]
  }
 ],
 "metadata": {
  "kernelspec": {
   "display_name": "Python 3",
   "language": "python",
   "name": "python3"
  },
  "language_info": {
   "codemirror_mode": {
    "name": "ipython",
    "version": 3
   },
   "file_extension": ".py",
   "mimetype": "text/x-python",
   "name": "python",
   "nbconvert_exporter": "python",
   "pygments_lexer": "ipython3",
   "version": "3.8.8"
  }
 },
 "nbformat": 4,
 "nbformat_minor": 5
}

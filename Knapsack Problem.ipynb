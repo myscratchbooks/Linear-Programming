{
 "cells": [
  {
   "cell_type": "markdown",
   "id": "4e6b8d22",
   "metadata": {},
   "source": [
    "# Knapsack Problem\n",
    "#### a family of combinatorial optimization problem\n",
    "#### There are two types of the problem:\n",
    "\n",
    "    1. “Fractional” knapsack problem.  you can take any fraction of an item.\n",
    "    2. “0/1” knapsack problem. you either take an item or not."
   ]
  },
  {
   "cell_type": "markdown",
   "id": "9a538860",
   "metadata": {},
   "source": [
    "## “0/1” knapsack problem.\n",
    "#### There 3 methods for solving the problem https://www.analyticsvidhya.com/blog/2022/05/knapsack-problem-in-python/\n",
    "    1. Greedy Method\n",
    "    2. Dynamic programming (most efficiently)\n",
    "    3. Brute Force"
   ]
  },
  {
   "cell_type": "code",
   "execution_count": 4,
   "id": "cf0ac5bc",
   "metadata": {
    "scrolled": true
   },
   "outputs": [
    {
     "data": {
      "text/html": [
       "<img src=\"https://miro.medium.com/max/972/1*DFa8iUt7TvaXLx9Gc3vysQ.png\" width=\"400\" height=\"400\"/>"
      ],
      "text/plain": [
       "<IPython.core.display.Image object>"
      ]
     },
     "execution_count": 4,
     "metadata": {},
     "output_type": "execute_result"
    }
   ],
   "source": [
    "# https://www.hackerearth.com/practice/notes/the-knapsack-problem/\n",
    "from IPython.display import display, Image, SVG, Math, YouTubeVideo\n",
    "Image(url ='https://miro.medium.com/max/972/1*DFa8iUt7TvaXLx9Gc3vysQ.png', width=400, height=400)"
   ]
  },
  {
   "cell_type": "markdown",
   "id": "f0d677ac",
   "metadata": {},
   "source": [
    "## Maximize: $$\n",
    "\\sum\\limits_{i=1}^{n}v_{i}x_{i}\n",
    "$$Subject to: $$\n",
    "\\sum\\limits_{i=1}^{n}w_{i}x_{i}<= W $$"
   ]
  },
  {
   "cell_type": "markdown",
   "id": "2a959c46",
   "metadata": {},
   "source": [
    "$$x_{i}\\in \\left\\{0,1\\right\\}  \\,\\,\\,\\,\\,\\,\\forall i \\in \\left[I\\right] $$ "
   ]
  },
  {
   "cell_type": "markdown",
   "id": "2d34124a",
   "metadata": {},
   "source": [
    "#### A bag with a capacity of 15kg\n",
    "#### 5 items to pick with values and weights defined"
   ]
  },
  {
   "cell_type": "code",
   "execution_count": 19,
   "id": "e20ec064",
   "metadata": {},
   "outputs": [],
   "source": [
    "# https://www.interviewbit.com/blog/0-1-knapsack-problem/\n",
    "\n",
    "def knapsack01(W,N,v,w) :\n",
    "    DP = [0 for i in range(W+1)] # Defining DP \n",
    "\n",
    "    for i in range(1,N+1) :\n",
    "        for j in range(W,w[i-1]-1,-1) :\n",
    "                # Taking max of both the cases i.e to take that \n",
    "                # item or to ignore it.\n",
    "                DP[j] = max(v[i-1]+DP[j-w[i-1]],DP[j]) \n",
    "    # returning answer for W space and N items \n",
    "    return DP[W]"
   ]
  },
  {
   "cell_type": "code",
   "execution_count": 21,
   "id": "21964131",
   "metadata": {},
   "outputs": [
    {
     "name": "stdout",
     "output_type": "stream",
     "text": [
      "Knapsack value is 15\n"
     ]
    }
   ],
   "source": [
    "W=15  # Max weight\n",
    "n=5   # Total items\n",
    "weights =[12,1,2,1,4]   # Weight of items \n",
    "values =[4,2,2,1,10]  # Values of items\n",
    "\n",
    "print('Knapsack value is', knapsack01(W,n,values,weights) )"
   ]
  },
  {
   "cell_type": "markdown",
   "id": "31e3bb47",
   "metadata": {},
   "source": [
    "#### the value is maximized to 15 by including the elements 2, 3, 4 and 5 in the bag."
   ]
  },
  {
   "cell_type": "markdown",
   "id": "14a41c9e",
   "metadata": {},
   "source": [
    "## Using Pyomo"
   ]
  },
  {
   "cell_type": "code",
   "execution_count": 33,
   "id": "63ca940f",
   "metadata": {},
   "outputs": [],
   "source": [
    "from pyomo.environ import *\n",
    "from pyomo.opt import *\n",
    "\n",
    "v = {'item1':4, 'item2':2, 'item3':2, 'item4':1 , 'item5':10}\n",
    "w = {'item1':12, 'item2':1, 'item3':2, 'item4':1, 'item5':4}\n",
    "\n",
    "limit = 15\n",
    "\n",
    "opt = solvers.SolverFactory('glpk')\n",
    "M = ConcreteModel()\n",
    "\n",
    "M.ITEMS = Set(initialize=v.keys())\n",
    "\n",
    "M.x = Var(M.ITEMS, within=Binary)\n",
    "\n",
    "M.value = Objective(expr=sum(v[i]*M.x[i] for i in M.ITEMS), sense=maximize)\n",
    "\n",
    "M.weight = Constraint(expr=sum(w[i]*M.x[i] for i in M.ITEMS) <= limit)"
   ]
  },
  {
   "cell_type": "code",
   "execution_count": 34,
   "id": "20536eaf",
   "metadata": {},
   "outputs": [],
   "source": [
    "results = opt.solve(M)"
   ]
  },
  {
   "cell_type": "code",
   "execution_count": 35,
   "id": "f83ed839",
   "metadata": {},
   "outputs": [
    {
     "data": {
      "text/plain": [
       "{'item1': 0.0, 'item2': 1.0, 'item3': 1.0, 'item4': 1.0, 'item5': 1.0}"
      ]
     },
     "execution_count": 35,
     "metadata": {},
     "output_type": "execute_result"
    }
   ],
   "source": [
    "M.x.get_values()"
   ]
  },
  {
   "cell_type": "code",
   "execution_count": 36,
   "id": "45887a62",
   "metadata": {},
   "outputs": [
    {
     "data": {
      "text/plain": [
       "15.0"
      ]
     },
     "execution_count": 36,
     "metadata": {},
     "output_type": "execute_result"
    }
   ],
   "source": [
    "M.value.expr()"
   ]
  },
  {
   "cell_type": "markdown",
   "id": "d77c839a",
   "metadata": {},
   "source": [
    "### References\n",
    "    http://masc.cs.gmu.edu/wiki/KnapsackProblems\n",
    "    https://www.javatpoint.com/0-1-knapsack-problem\n",
    "    https://webpages.charlotte.edu/rbunescu/courses/ou/cs4040/lecture16.pdf\n",
    "    https://www.educative.io/blog/0-1-knapsack-problem-dynamic-solution\n",
    "    https://ssaurel.medium.com/solving-the-knapsack-problem-in-java-c985c71a7e64\n",
    "    https://www.hackerearth.com/practice/notes/the-knapsack-problem/\n",
    "    https://www.techiedelight.com/0-1-knapsack-problem/\n",
    "    https://www.analyticsvidhya.com/blog/2022/05/knapsack-problem-in-python/"
   ]
  },
  {
   "cell_type": "markdown",
   "id": "750edd1b",
   "metadata": {},
   "source": [
    "## Multiple Knapsacks Problem"
   ]
  },
  {
   "cell_type": "code",
   "execution_count": null,
   "id": "9b363907",
   "metadata": {},
   "outputs": [],
   "source": []
  },
  {
   "cell_type": "markdown",
   "id": "4430f358",
   "metadata": {},
   "source": [
    "### References\n",
    "    https://or.stackexchange.com/questions/4576/multiple-knapsacks-with-splitting"
   ]
  },
  {
   "cell_type": "markdown",
   "id": "71129932",
   "metadata": {},
   "source": [
    "## Fractional knapsack problem\n",
    "##### #  fractional knapsack is best solved using a greedy algorithm. "
   ]
  },
  {
   "cell_type": "code",
   "execution_count": 5,
   "id": "05cc1adf",
   "metadata": {},
   "outputs": [
    {
     "data": {
      "text/html": [
       "<img src=\"https://i0.wp.com/learnersbucket.com/wp-content/uploads/2020/12/fractional-knapsack-problem-1.png?w=768&ssl=1\" width=\"600\" height=\"600\"/>"
      ],
      "text/plain": [
       "<IPython.core.display.Image object>"
      ]
     },
     "execution_count": 5,
     "metadata": {},
     "output_type": "execute_result"
    }
   ],
   "source": [
    "# https://www.hackerearth.com/practice/notes/the-knapsack-problem/\n",
    "from IPython.display import display, Image, SVG, Math, YouTubeVideo\n",
    "Image(url ='https://i0.wp.com/learnersbucket.com/wp-content/uploads/2020/12/fractional-knapsack-problem-1.png?w=768&ssl=1', width=600, height=600)"
   ]
  },
  {
   "cell_type": "code",
   "execution_count": 1,
   "id": "3973f6a8",
   "metadata": {},
   "outputs": [],
   "source": [
    "# https://www.sanfoundry.com/python-program-solve-fractional-knapsack-problem-using-greedy-algorithm/\n",
    "\n",
    "\n",
    "def fractional_knapsack(value, weight, capacity):\n",
    "    \"\"\"Return maximum value of items and their fractional amounts.\n",
    " \n",
    "    (max_value, fractions) is returned where max_value is the maximum value of\n",
    "    items with total weight not more than capacity.\n",
    "    fractions is a list where fractions[i] is the fraction that should be taken\n",
    "    of item i, where 0 <= i < total number of items.\n",
    " \n",
    "    value[i] is the value of item i and weight[i] is the weight of item i\n",
    "    for 0 <= i < n where n is the number of items.\n",
    " \n",
    "    capacity is the maximum weight.\n",
    "    \"\"\"\n",
    "    # index = [0, 1, 2, ..., n - 1] for n items\n",
    "    index = list(range(len(value)))\n",
    "    # contains ratios of values to weight\n",
    "    ratio = [v/w for v, w in zip(value, weight)]\n",
    "    # index is sorted according to value-to-weight ratio in decreasing order\n",
    "    index.sort(key=lambda i: ratio[i], reverse=True)\n",
    " \n",
    "    max_value = 0\n",
    "    fractions = [0]*len(value)\n",
    "    for i in index:\n",
    "        if weight[i] <= capacity:\n",
    "            fractions[i] = 1\n",
    "            max_value += value[i]\n",
    "            capacity -= weight[i]\n",
    "        else:\n",
    "            fractions[i] = capacity/weight[i]\n",
    "            max_value += value[i]*capacity/weight[i]\n",
    "            break\n",
    " \n",
    "    return max_value, fractions\n"
   ]
  },
  {
   "cell_type": "code",
   "execution_count": 3,
   "id": "d81eecf6",
   "metadata": {},
   "outputs": [
    {
     "name": "stdout",
     "output_type": "stream",
     "text": [
      "The maximum value of items that can be carried: 440.0\n",
      "The fractions in which the items should be taken: [1, 1, 0.5, 0]\n"
     ]
    }
   ],
   "source": [
    "n = 4\n",
    "value = [100,280,120,120]\n",
    "\n",
    "weight = [10,40,20,24]\n",
    "capacity = 60\n",
    " \n",
    "max_value, fractions = fractional_knapsack(value, weight, capacity)\n",
    "print('The maximum value of items that can be carried:', max_value)\n",
    "print('The fractions in which the items should be taken:', fractions)"
   ]
  },
  {
   "cell_type": "markdown",
   "id": "cb10efa2",
   "metadata": {},
   "source": [
    "### References\n",
    "    https://www.tutorialspoint.com/program-to-implement-the-fractional-knapsack-problem-in-python\n",
    "    https://www.interviewbit.com/blog/fractional-knapsack-problem/\n",
    "    https://www.tutorialspoint.com/design_and_analysis_of_algorithms/design_and_analysis_of_algorithms_fractional_knapsack.htm\n",
    "    https://learnersbucket.com/examples/algorithms/fractional-knapsack-problem/"
   ]
  }
 ],
 "metadata": {
  "kernelspec": {
   "display_name": "Python 3",
   "language": "python",
   "name": "python3"
  },
  "language_info": {
   "codemirror_mode": {
    "name": "ipython",
    "version": 3
   },
   "file_extension": ".py",
   "mimetype": "text/x-python",
   "name": "python",
   "nbconvert_exporter": "python",
   "pygments_lexer": "ipython3",
   "version": "3.8.8"
  }
 },
 "nbformat": 4,
 "nbformat_minor": 5
}
